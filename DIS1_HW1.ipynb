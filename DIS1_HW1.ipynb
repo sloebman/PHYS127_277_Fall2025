{
 "cells": [
  {
   "cell_type": "markdown",
   "id": "4347a615-7c02-4148-a362-e3af9d3b0056",
   "metadata": {
    "tags": []
   },
   "source": [
    "## Discussion 1: Plotting in Python\n",
    "\n",
    "We will start today by watching [TED talk](https://www.ted.com/talks/hans_rosling_the_best_stats_you_ve_ever_seen#t-290048), which discussed biases we as people have about data and the **importance of looking at data** with good data visualization. \n",
    "\n",
    "Then, we will use Python to generate an image from this talk, but with data from 2021.  The data we will use to do this is from [Our World in Data: Fertility Rate](https://ourworldindata.org/fertility-rate)."
   ]
  },
  {
   "cell_type": "markdown",
   "id": "a14f4d60-0b59-417a-8aa6-fad77023b5e6",
   "metadata": {},
   "source": [
    "We will generate shows fertility vs child mortality for countries across the world. \n",
    "<img src=\"fertility-vs-child-mortality.png\" width=\"600\">"
   ]
  },
  {
   "cell_type": "markdown",
   "id": "19cd47b1-a3bd-4ff6-b3ec-4dfbdec69712",
   "metadata": {},
   "source": [
    "**Note 3 relevant details about this plot:**\n",
    "1) Each data point is color-coded by the region of the world the country is in. The legend in the top right indicates which color corresponds to which region.\n",
    "2) The size of each data point reflects the total population of each country.  The larger the circle, the more populous the country.\n",
    "3) The name of each country is labeled next to each data point and colored by the region in the world the country is in."
   ]
  },
  {
   "cell_type": "markdown",
   "id": "05750d30-7ebe-4440-8e5d-5ff3fb1021f5",
   "metadata": {},
   "source": [
    "### Step 1: \n",
    "The data we will use comes in a csv file (csv = comma separated variable). \n",
    "\n",
    "***We will use pandas to load the data.***  \n",
    "Pandas is a Python package that provides fast, flexible, and expressive data structures designed to make working with “relational” or “labeled” data both easy and intuitive. It aims to be the fundamental high-level building block for doing practical, real-world data analysis in Python. \n",
    "\n",
    "***We will use matplotlib.pyplot for generating plots.***\n",
    "matplotlib.pyplot is a collection of functions that make matplotlib work like MATLAB. Each pyplot function makes some change to a figure: e.g., creates a figure, creates a plotting area in a figure, plots some lines in a plotting area, decorates the plot with labels, etc.\n",
    "\n",
    "<span style=\"color:red\">More advanced users:</span> For those of you who are used to using %matplotlib inline to render plots in Jupyter notebook, this is not necessary when you import matplotlib.pyplot as plt.\n",
    "\n",
    "<span style=\"color:magenta\">Beginners:</span> A great very basic tutorial for getting started with plotting with matplotlib.pyplot can be found [here](https://matplotlib.org/stable/users/explain/quick_start.html).\n",
    "This includes code and plots that code generates.\n",
    "Another great more extensive tutorial can be found [here](https://matplotlib.org/stable/tutorials/introductory/pyplot.html)."
   ]
  },
  {
   "cell_type": "code",
   "execution_count": 5,
   "id": "c42d5de1-347f-4abf-9dea-25978d3d65de",
   "metadata": {},
   "outputs": [],
   "source": [
    "#packages like pandas, numpy, astroML need to be loaded once at the beginning of each notebook\n",
    "#an import statement is the way Python code in one module gains access to the code in another module.\n",
    "\n",
    "import pandas as pd\n",
    "import matplotlib.pyplot as plt \n",
    "import numpy as np"
   ]
  },
  {
   "cell_type": "markdown",
   "id": "ce97ae44-f950-459b-b787-19a70bd4b0f3",
   "metadata": {},
   "source": [
    "We will use pandas to load our data into a **DataFrame**.\n",
    "A DataFrame is a 2-dimensional labeled data structure with columns of potentially different types. You can think of it like a spreadsheet or SQL table, or a dict of Series objects. It is generally the most commonly used pandas object."
   ]
  },
  {
   "cell_type": "code",
   "execution_count": 7,
   "id": "97f12d9e-3e18-437f-8080-8dc98421f596",
   "metadata": {},
   "outputs": [],
   "source": [
    "dataframe = pd.read_csv (r'fertility-vs-child-mortality.csv') #this line loads the data into an object named dataframe"
   ]
  },
  {
   "cell_type": "markdown",
   "id": "2a60b03f-ce51-48b0-958c-cf69fecce240",
   "metadata": {},
   "source": [
    "Now, let's look at the data we have loaded.  "
   ]
  },
  {
   "cell_type": "code",
   "execution_count": 9,
   "id": "2db6ef82-bb5e-4d79-8276-e01327e7877f",
   "metadata": {},
   "outputs": [
    {
     "data": {
      "text/html": [
       "<div>\n",
       "<style scoped>\n",
       "    .dataframe tbody tr th:only-of-type {\n",
       "        vertical-align: middle;\n",
       "    }\n",
       "\n",
       "    .dataframe tbody tr th {\n",
       "        vertical-align: top;\n",
       "    }\n",
       "\n",
       "    .dataframe thead th {\n",
       "        text-align: right;\n",
       "    }\n",
       "</style>\n",
       "<table border=\"1\" class=\"dataframe\">\n",
       "  <thead>\n",
       "    <tr style=\"text-align: right;\">\n",
       "      <th></th>\n",
       "      <th>Entity</th>\n",
       "      <th>Code</th>\n",
       "      <th>Year</th>\n",
       "      <th>Fertility rate - Sex: all - Age: all - Variant: estimates</th>\n",
       "      <th>Child mortality rate - Sex: all - Age: 0-4 - Variant: estimates</th>\n",
       "      <th>Population (historical estimates)</th>\n",
       "      <th>Continent</th>\n",
       "    </tr>\n",
       "  </thead>\n",
       "  <tbody>\n",
       "    <tr>\n",
       "      <th>0</th>\n",
       "      <td>Abkhazia</td>\n",
       "      <td>OWID_ABK</td>\n",
       "      <td>2015</td>\n",
       "      <td>NaN</td>\n",
       "      <td>NaN</td>\n",
       "      <td>NaN</td>\n",
       "      <td>Asia</td>\n",
       "    </tr>\n",
       "    <tr>\n",
       "      <th>1</th>\n",
       "      <td>Afghanistan</td>\n",
       "      <td>AFG</td>\n",
       "      <td>1950</td>\n",
       "      <td>7.2484</td>\n",
       "      <td>41.940210</td>\n",
       "      <td>7480464.0</td>\n",
       "      <td>NaN</td>\n",
       "    </tr>\n",
       "    <tr>\n",
       "      <th>2</th>\n",
       "      <td>Afghanistan</td>\n",
       "      <td>AFG</td>\n",
       "      <td>1951</td>\n",
       "      <td>7.2596</td>\n",
       "      <td>41.630490</td>\n",
       "      <td>7571542.0</td>\n",
       "      <td>NaN</td>\n",
       "    </tr>\n",
       "    <tr>\n",
       "      <th>3</th>\n",
       "      <td>Afghanistan</td>\n",
       "      <td>AFG</td>\n",
       "      <td>1952</td>\n",
       "      <td>7.2601</td>\n",
       "      <td>40.986248</td>\n",
       "      <td>7667534.0</td>\n",
       "      <td>NaN</td>\n",
       "    </tr>\n",
       "    <tr>\n",
       "      <th>4</th>\n",
       "      <td>Afghanistan</td>\n",
       "      <td>AFG</td>\n",
       "      <td>1953</td>\n",
       "      <td>7.2662</td>\n",
       "      <td>40.335840</td>\n",
       "      <td>7764549.0</td>\n",
       "      <td>NaN</td>\n",
       "    </tr>\n",
       "    <tr>\n",
       "      <th>...</th>\n",
       "      <td>...</td>\n",
       "      <td>...</td>\n",
       "      <td>...</td>\n",
       "      <td>...</td>\n",
       "      <td>...</td>\n",
       "      <td>...</td>\n",
       "      <td>...</td>\n",
       "    </tr>\n",
       "    <tr>\n",
       "      <th>58666</th>\n",
       "      <td>Zimbabwe</td>\n",
       "      <td>ZWE</td>\n",
       "      <td>1945</td>\n",
       "      <td>NaN</td>\n",
       "      <td>NaN</td>\n",
       "      <td>2519116.0</td>\n",
       "      <td>NaN</td>\n",
       "    </tr>\n",
       "    <tr>\n",
       "      <th>58667</th>\n",
       "      <td>Zimbabwe</td>\n",
       "      <td>ZWE</td>\n",
       "      <td>1946</td>\n",
       "      <td>NaN</td>\n",
       "      <td>NaN</td>\n",
       "      <td>2567459.0</td>\n",
       "      <td>NaN</td>\n",
       "    </tr>\n",
       "    <tr>\n",
       "      <th>58668</th>\n",
       "      <td>Zimbabwe</td>\n",
       "      <td>ZWE</td>\n",
       "      <td>1947</td>\n",
       "      <td>NaN</td>\n",
       "      <td>NaN</td>\n",
       "      <td>2616729.0</td>\n",
       "      <td>NaN</td>\n",
       "    </tr>\n",
       "    <tr>\n",
       "      <th>58669</th>\n",
       "      <td>Zimbabwe</td>\n",
       "      <td>ZWE</td>\n",
       "      <td>1948</td>\n",
       "      <td>NaN</td>\n",
       "      <td>NaN</td>\n",
       "      <td>2666945.0</td>\n",
       "      <td>NaN</td>\n",
       "    </tr>\n",
       "    <tr>\n",
       "      <th>58670</th>\n",
       "      <td>Zimbabwe</td>\n",
       "      <td>ZWE</td>\n",
       "      <td>1949</td>\n",
       "      <td>NaN</td>\n",
       "      <td>NaN</td>\n",
       "      <td>2725021.0</td>\n",
       "      <td>NaN</td>\n",
       "    </tr>\n",
       "  </tbody>\n",
       "</table>\n",
       "<p>58671 rows × 7 columns</p>\n",
       "</div>"
      ],
      "text/plain": [
       "            Entity      Code  Year  \\\n",
       "0         Abkhazia  OWID_ABK  2015   \n",
       "1      Afghanistan       AFG  1950   \n",
       "2      Afghanistan       AFG  1951   \n",
       "3      Afghanistan       AFG  1952   \n",
       "4      Afghanistan       AFG  1953   \n",
       "...            ...       ...   ...   \n",
       "58666     Zimbabwe       ZWE  1945   \n",
       "58667     Zimbabwe       ZWE  1946   \n",
       "58668     Zimbabwe       ZWE  1947   \n",
       "58669     Zimbabwe       ZWE  1948   \n",
       "58670     Zimbabwe       ZWE  1949   \n",
       "\n",
       "       Fertility rate - Sex: all - Age: all - Variant: estimates  \\\n",
       "0                                                    NaN           \n",
       "1                                                 7.2484           \n",
       "2                                                 7.2596           \n",
       "3                                                 7.2601           \n",
       "4                                                 7.2662           \n",
       "...                                                  ...           \n",
       "58666                                                NaN           \n",
       "58667                                                NaN           \n",
       "58668                                                NaN           \n",
       "58669                                                NaN           \n",
       "58670                                                NaN           \n",
       "\n",
       "       Child mortality rate - Sex: all - Age: 0-4 - Variant: estimates  \\\n",
       "0                                                    NaN                 \n",
       "1                                              41.940210                 \n",
       "2                                              41.630490                 \n",
       "3                                              40.986248                 \n",
       "4                                              40.335840                 \n",
       "...                                                  ...                 \n",
       "58666                                                NaN                 \n",
       "58667                                                NaN                 \n",
       "58668                                                NaN                 \n",
       "58669                                                NaN                 \n",
       "58670                                                NaN                 \n",
       "\n",
       "       Population (historical estimates) Continent  \n",
       "0                                    NaN      Asia  \n",
       "1                              7480464.0       NaN  \n",
       "2                              7571542.0       NaN  \n",
       "3                              7667534.0       NaN  \n",
       "4                              7764549.0       NaN  \n",
       "...                                  ...       ...  \n",
       "58666                          2519116.0       NaN  \n",
       "58667                          2567459.0       NaN  \n",
       "58668                          2616729.0       NaN  \n",
       "58669                          2666945.0       NaN  \n",
       "58670                          2725021.0       NaN  \n",
       "\n",
       "[58671 rows x 7 columns]"
      ]
     },
     "execution_count": 9,
     "metadata": {},
     "output_type": "execute_result"
    }
   ],
   "source": [
    "dataframe #you can see the contents of any object, including DataFrames, if you enter just the object's name (here was have called it dataframe)"
   ]
  },
  {
   "cell_type": "code",
   "execution_count": 10,
   "id": "6efd9a00-d5cf-4006-a660-d6b4196df3d3",
   "metadata": {},
   "outputs": [
    {
     "data": {
      "text/plain": [
       "Index(['Entity', 'Code', 'Year',\n",
       "       'Fertility rate - Sex: all - Age: all - Variant: estimates',\n",
       "       'Child mortality rate - Sex: all - Age: 0-4 - Variant: estimates',\n",
       "       'Population (historical estimates)', 'Continent'],\n",
       "      dtype='object')"
      ]
     },
     "execution_count": 10,
     "metadata": {},
     "output_type": "execute_result"
    }
   ],
   "source": [
    "dataframe.keys() #The keys() method will displays a list of all the keys (column names) of data in the dataframe object"
   ]
  },
  {
   "cell_type": "markdown",
   "id": "551f6d67-96e5-4f8c-a8fc-a8bc508e5fee",
   "metadata": {},
   "source": [
    "See how there are lots of places where the are **'Nan'** entries? \n",
    "Let's get rid of any rows where the population is 'Nan' for simplicity for now."
   ]
  },
  {
   "cell_type": "code",
   "execution_count": 12,
   "id": "8ca8d646-b545-4c52-a198-d06d176df077",
   "metadata": {},
   "outputs": [],
   "source": [
    "mask_Nan = dataframe['Population (historical estimates)' \n",
    "                 and 'Fertility rate - Sex: all - Age: all - Variant: estimates' \n",
    "                 and 'Child mortality rate - Sex: all - Age: 0-4 - Variant: estimates'].notnull() \n",
    "\n",
    "#print(mask_Nan)        # uncomment if you want to see what mask contains -- True or False if the criteria is met for each row of data\n",
    "df = dataframe[mask_Nan] # df will only contain the rows of data from dataframe that are `True' in the mask."
   ]
  },
  {
   "cell_type": "markdown",
   "id": "a610a072-40f0-4301-8aab-74b556a10ed8",
   "metadata": {},
   "source": [
    "Let's doublecheck and see how **df** is different than **dataframe**.  \n",
    "Remember, df only has data stored in it that was labeled as 'True' in mask_Nan.  What do you expect to see?"
   ]
  },
  {
   "cell_type": "markdown",
   "id": "029387d4-91ac-499b-920d-a5facd2988f7",
   "metadata": {},
   "source": [
    "Now, let's explore another way to look at a list of the **column names**.  "
   ]
  },
  {
   "cell_type": "code",
   "execution_count": 15,
   "id": "e608861b-0f12-473a-8ffe-59a2dd9aa6e8",
   "metadata": {},
   "outputs": [
    {
     "data": {
      "text/plain": [
       "['Entity',\n",
       " 'Code',\n",
       " 'Year',\n",
       " 'Fertility rate - Sex: all - Age: all - Variant: estimates',\n",
       " 'Child mortality rate - Sex: all - Age: 0-4 - Variant: estimates',\n",
       " 'Population (historical estimates)',\n",
       " 'Continent']"
      ]
     },
     "execution_count": 15,
     "metadata": {},
     "output_type": "execute_result"
    }
   ],
   "source": [
    "list(df.columns) #this line let's us see the name of column of data -- what is similar or different from dataframe.keys() from above"
   ]
  },
  {
   "cell_type": "markdown",
   "id": "2249326d-3a66-4cdd-9ca4-05b59125bbbd",
   "metadata": {},
   "source": [
    "I want to see what is inside **one column of data** - the 'Entity' column now.  \n",
    "Note, I can see the contents of any column of df by putting [] next to it with the name of the column inside the square brackets.    "
   ]
  },
  {
   "cell_type": "code",
   "execution_count": 17,
   "id": "780385c0-4d50-4910-bad7-d05f7a4660b5",
   "metadata": {},
   "outputs": [
    {
     "data": {
      "text/plain": [
       "1        Afghanistan\n",
       "2        Afghanistan\n",
       "3        Afghanistan\n",
       "4        Afghanistan\n",
       "5        Afghanistan\n",
       "            ...     \n",
       "58479       Zimbabwe\n",
       "58480       Zimbabwe\n",
       "58481       Zimbabwe\n",
       "58482       Zimbabwe\n",
       "58483       Zimbabwe\n",
       "Name: Entity, Length: 18360, dtype: object"
      ]
     },
     "execution_count": 17,
     "metadata": {},
     "output_type": "execute_result"
    }
   ],
   "source": [
    "df['Entity'] #this let's us see what is inside the 'Entity' column of data"
   ]
  },
  {
   "cell_type": "markdown",
   "id": "8f6550a6-5f36-4c61-b410-ff9642acf0f6",
   "metadata": {},
   "source": [
    "***What if I want to look only at one entry in a column of data?***  I can do this by adding another set of [] and this time including the index of the entry I am interested in.  \n",
    "\n",
    "***What is an index?***\n",
    "An index in Python is a way to refer to an individual item within an array (or any iterable object) **by its position in the array**. In other words, you can directly access your elements of choice within an iterable and do various operations depending on your needs.\n",
    "\n",
    "In Python, objects are **“zero-indexed”** meaning the position count starts at zero. Many other programming languages follow the same pattern. \n",
    "\n",
    "So, if there are 5 elements present within a list. Then the first element (i.e. the leftmost element) holds the “zeroth” place, followed by the elements in first, second, third, and fourth positions.\n",
    "\n",
    "***Now let's look just at the third entry of the 'Entity' column.***"
   ]
  },
  {
   "cell_type": "code",
   "execution_count": 19,
   "id": "5fa238af-a35e-4d68-8777-fe618d16dbf9",
   "metadata": {},
   "outputs": [
    {
     "data": {
      "text/plain": [
       "'Afghanistan'"
      ]
     },
     "execution_count": 19,
     "metadata": {},
     "output_type": "execute_result"
    }
   ],
   "source": [
    "df['Entity'][2]"
   ]
  },
  {
   "cell_type": "markdown",
   "id": "ceeebd46-8aba-413c-b407-345293ed99c9",
   "metadata": {},
   "source": [
    "I like to **make column of indices called 'index'** that I can access in the same way I select other columns of data.  \n",
    "There are several ways to do this, but I like including the line of code below."
   ]
  },
  {
   "cell_type": "code",
   "execution_count": 21,
   "id": "cfe6902b-9d01-4619-92d4-f6cadaeb32f0",
   "metadata": {},
   "outputs": [
    {
     "data": {
      "text/html": [
       "<div>\n",
       "<style scoped>\n",
       "    .dataframe tbody tr th:only-of-type {\n",
       "        vertical-align: middle;\n",
       "    }\n",
       "\n",
       "    .dataframe tbody tr th {\n",
       "        vertical-align: top;\n",
       "    }\n",
       "\n",
       "    .dataframe thead th {\n",
       "        text-align: right;\n",
       "    }\n",
       "</style>\n",
       "<table border=\"1\" class=\"dataframe\">\n",
       "  <thead>\n",
       "    <tr style=\"text-align: right;\">\n",
       "      <th></th>\n",
       "      <th>index</th>\n",
       "      <th>Entity</th>\n",
       "      <th>Code</th>\n",
       "      <th>Year</th>\n",
       "      <th>Fertility rate - Sex: all - Age: all - Variant: estimates</th>\n",
       "      <th>Child mortality rate - Sex: all - Age: 0-4 - Variant: estimates</th>\n",
       "      <th>Population (historical estimates)</th>\n",
       "      <th>Continent</th>\n",
       "    </tr>\n",
       "  </thead>\n",
       "  <tbody>\n",
       "    <tr>\n",
       "      <th>0</th>\n",
       "      <td>1</td>\n",
       "      <td>Afghanistan</td>\n",
       "      <td>AFG</td>\n",
       "      <td>1950</td>\n",
       "      <td>7.2484</td>\n",
       "      <td>41.940210</td>\n",
       "      <td>7480464.0</td>\n",
       "      <td>NaN</td>\n",
       "    </tr>\n",
       "    <tr>\n",
       "      <th>1</th>\n",
       "      <td>2</td>\n",
       "      <td>Afghanistan</td>\n",
       "      <td>AFG</td>\n",
       "      <td>1951</td>\n",
       "      <td>7.2596</td>\n",
       "      <td>41.630490</td>\n",
       "      <td>7571542.0</td>\n",
       "      <td>NaN</td>\n",
       "    </tr>\n",
       "    <tr>\n",
       "      <th>2</th>\n",
       "      <td>3</td>\n",
       "      <td>Afghanistan</td>\n",
       "      <td>AFG</td>\n",
       "      <td>1952</td>\n",
       "      <td>7.2601</td>\n",
       "      <td>40.986248</td>\n",
       "      <td>7667534.0</td>\n",
       "      <td>NaN</td>\n",
       "    </tr>\n",
       "    <tr>\n",
       "      <th>3</th>\n",
       "      <td>4</td>\n",
       "      <td>Afghanistan</td>\n",
       "      <td>AFG</td>\n",
       "      <td>1953</td>\n",
       "      <td>7.2662</td>\n",
       "      <td>40.335840</td>\n",
       "      <td>7764549.0</td>\n",
       "      <td>NaN</td>\n",
       "    </tr>\n",
       "    <tr>\n",
       "      <th>4</th>\n",
       "      <td>5</td>\n",
       "      <td>Afghanistan</td>\n",
       "      <td>AFG</td>\n",
       "      <td>1954</td>\n",
       "      <td>7.2542</td>\n",
       "      <td>39.781000</td>\n",
       "      <td>7864289.0</td>\n",
       "      <td>NaN</td>\n",
       "    </tr>\n",
       "    <tr>\n",
       "      <th>...</th>\n",
       "      <td>...</td>\n",
       "      <td>...</td>\n",
       "      <td>...</td>\n",
       "      <td>...</td>\n",
       "      <td>...</td>\n",
       "      <td>...</td>\n",
       "      <td>...</td>\n",
       "      <td>...</td>\n",
       "    </tr>\n",
       "    <tr>\n",
       "      <th>18355</th>\n",
       "      <td>58479</td>\n",
       "      <td>Zimbabwe</td>\n",
       "      <td>ZWE</td>\n",
       "      <td>2017</td>\n",
       "      <td>3.7064</td>\n",
       "      <td>5.573630</td>\n",
       "      <td>14751101.0</td>\n",
       "      <td>NaN</td>\n",
       "    </tr>\n",
       "    <tr>\n",
       "      <th>18356</th>\n",
       "      <td>58480</td>\n",
       "      <td>Zimbabwe</td>\n",
       "      <td>ZWE</td>\n",
       "      <td>2018</td>\n",
       "      <td>3.6591</td>\n",
       "      <td>5.323270</td>\n",
       "      <td>15052191.0</td>\n",
       "      <td>NaN</td>\n",
       "    </tr>\n",
       "    <tr>\n",
       "      <th>18357</th>\n",
       "      <td>58481</td>\n",
       "      <td>Zimbabwe</td>\n",
       "      <td>ZWE</td>\n",
       "      <td>2019</td>\n",
       "      <td>3.5994</td>\n",
       "      <td>5.312390</td>\n",
       "      <td>15354606.0</td>\n",
       "      <td>NaN</td>\n",
       "    </tr>\n",
       "    <tr>\n",
       "      <th>18358</th>\n",
       "      <td>58482</td>\n",
       "      <td>Zimbabwe</td>\n",
       "      <td>ZWE</td>\n",
       "      <td>2020</td>\n",
       "      <td>3.5451</td>\n",
       "      <td>5.225750</td>\n",
       "      <td>15669663.0</td>\n",
       "      <td>NaN</td>\n",
       "    </tr>\n",
       "    <tr>\n",
       "      <th>18359</th>\n",
       "      <td>58483</td>\n",
       "      <td>Zimbabwe</td>\n",
       "      <td>ZWE</td>\n",
       "      <td>2021</td>\n",
       "      <td>3.4908</td>\n",
       "      <td>5.214800</td>\n",
       "      <td>15993525.0</td>\n",
       "      <td>NaN</td>\n",
       "    </tr>\n",
       "  </tbody>\n",
       "</table>\n",
       "<p>18360 rows × 8 columns</p>\n",
       "</div>"
      ],
      "text/plain": [
       "       index       Entity Code  Year  \\\n",
       "0          1  Afghanistan  AFG  1950   \n",
       "1          2  Afghanistan  AFG  1951   \n",
       "2          3  Afghanistan  AFG  1952   \n",
       "3          4  Afghanistan  AFG  1953   \n",
       "4          5  Afghanistan  AFG  1954   \n",
       "...      ...          ...  ...   ...   \n",
       "18355  58479     Zimbabwe  ZWE  2017   \n",
       "18356  58480     Zimbabwe  ZWE  2018   \n",
       "18357  58481     Zimbabwe  ZWE  2019   \n",
       "18358  58482     Zimbabwe  ZWE  2020   \n",
       "18359  58483     Zimbabwe  ZWE  2021   \n",
       "\n",
       "       Fertility rate - Sex: all - Age: all - Variant: estimates  \\\n",
       "0                                                 7.2484           \n",
       "1                                                 7.2596           \n",
       "2                                                 7.2601           \n",
       "3                                                 7.2662           \n",
       "4                                                 7.2542           \n",
       "...                                                  ...           \n",
       "18355                                             3.7064           \n",
       "18356                                             3.6591           \n",
       "18357                                             3.5994           \n",
       "18358                                             3.5451           \n",
       "18359                                             3.4908           \n",
       "\n",
       "       Child mortality rate - Sex: all - Age: 0-4 - Variant: estimates  \\\n",
       "0                                              41.940210                 \n",
       "1                                              41.630490                 \n",
       "2                                              40.986248                 \n",
       "3                                              40.335840                 \n",
       "4                                              39.781000                 \n",
       "...                                                  ...                 \n",
       "18355                                           5.573630                 \n",
       "18356                                           5.323270                 \n",
       "18357                                           5.312390                 \n",
       "18358                                           5.225750                 \n",
       "18359                                           5.214800                 \n",
       "\n",
       "       Population (historical estimates) Continent  \n",
       "0                              7480464.0       NaN  \n",
       "1                              7571542.0       NaN  \n",
       "2                              7667534.0       NaN  \n",
       "3                              7764549.0       NaN  \n",
       "4                              7864289.0       NaN  \n",
       "...                                  ...       ...  \n",
       "18355                         14751101.0       NaN  \n",
       "18356                         15052191.0       NaN  \n",
       "18357                         15354606.0       NaN  \n",
       "18358                         15669663.0       NaN  \n",
       "18359                         15993525.0       NaN  \n",
       "\n",
       "[18360 rows x 8 columns]"
      ]
     },
     "execution_count": 21,
     "metadata": {},
     "output_type": "execute_result"
    }
   ],
   "source": [
    "df.reset_index(level=0, inplace=True) #makes a column called 'index'\n",
    "df"
   ]
  },
  {
   "cell_type": "markdown",
   "id": "a755a587-0a7a-4364-8a96-bbf51e05cdd1",
   "metadata": {},
   "source": [
    "Now let’s **select rows based on some conditions** in our Pandas Dataframe.\n",
    "\n",
    "Selecting rows based on particular column value using '>', '==', '<=', '!=' operator.\n",
    "\n",
    "Let's select just the rows of data that correspond to the Zimbabwe."
   ]
  },
  {
   "cell_type": "code",
   "execution_count": 23,
   "id": "52f4766b-1b69-4d65-8719-a010abfdf092",
   "metadata": {},
   "outputs": [
    {
     "data": {
      "text/html": [
       "<div>\n",
       "<style scoped>\n",
       "    .dataframe tbody tr th:only-of-type {\n",
       "        vertical-align: middle;\n",
       "    }\n",
       "\n",
       "    .dataframe tbody tr th {\n",
       "        vertical-align: top;\n",
       "    }\n",
       "\n",
       "    .dataframe thead th {\n",
       "        text-align: right;\n",
       "    }\n",
       "</style>\n",
       "<table border=\"1\" class=\"dataframe\">\n",
       "  <thead>\n",
       "    <tr style=\"text-align: right;\">\n",
       "      <th></th>\n",
       "      <th>index</th>\n",
       "      <th>Entity</th>\n",
       "      <th>Code</th>\n",
       "      <th>Year</th>\n",
       "      <th>Fertility rate - Sex: all - Age: all - Variant: estimates</th>\n",
       "      <th>Child mortality rate - Sex: all - Age: 0-4 - Variant: estimates</th>\n",
       "      <th>Population (historical estimates)</th>\n",
       "      <th>Continent</th>\n",
       "    </tr>\n",
       "  </thead>\n",
       "  <tbody>\n",
       "    <tr>\n",
       "      <th>18288</th>\n",
       "      <td>58412</td>\n",
       "      <td>Zimbabwe</td>\n",
       "      <td>ZWE</td>\n",
       "      <td>1950</td>\n",
       "      <td>7.1040</td>\n",
       "      <td>18.331240</td>\n",
       "      <td>2791336.0</td>\n",
       "      <td>NaN</td>\n",
       "    </tr>\n",
       "    <tr>\n",
       "      <th>18289</th>\n",
       "      <td>58413</td>\n",
       "      <td>Zimbabwe</td>\n",
       "      <td>ZWE</td>\n",
       "      <td>1951</td>\n",
       "      <td>7.1026</td>\n",
       "      <td>18.149181</td>\n",
       "      <td>2881722.0</td>\n",
       "      <td>NaN</td>\n",
       "    </tr>\n",
       "    <tr>\n",
       "      <th>18290</th>\n",
       "      <td>58414</td>\n",
       "      <td>Zimbabwe</td>\n",
       "      <td>ZWE</td>\n",
       "      <td>1952</td>\n",
       "      <td>7.1143</td>\n",
       "      <td>17.791811</td>\n",
       "      <td>2973720.0</td>\n",
       "      <td>NaN</td>\n",
       "    </tr>\n",
       "    <tr>\n",
       "      <th>18291</th>\n",
       "      <td>58415</td>\n",
       "      <td>Zimbabwe</td>\n",
       "      <td>ZWE</td>\n",
       "      <td>1953</td>\n",
       "      <td>7.1195</td>\n",
       "      <td>17.436000</td>\n",
       "      <td>3067904.0</td>\n",
       "      <td>NaN</td>\n",
       "    </tr>\n",
       "    <tr>\n",
       "      <th>18292</th>\n",
       "      <td>58416</td>\n",
       "      <td>Zimbabwe</td>\n",
       "      <td>ZWE</td>\n",
       "      <td>1954</td>\n",
       "      <td>7.1331</td>\n",
       "      <td>17.065370</td>\n",
       "      <td>3164515.0</td>\n",
       "      <td>NaN</td>\n",
       "    </tr>\n",
       "    <tr>\n",
       "      <th>...</th>\n",
       "      <td>...</td>\n",
       "      <td>...</td>\n",
       "      <td>...</td>\n",
       "      <td>...</td>\n",
       "      <td>...</td>\n",
       "      <td>...</td>\n",
       "      <td>...</td>\n",
       "      <td>...</td>\n",
       "    </tr>\n",
       "    <tr>\n",
       "      <th>18355</th>\n",
       "      <td>58479</td>\n",
       "      <td>Zimbabwe</td>\n",
       "      <td>ZWE</td>\n",
       "      <td>2017</td>\n",
       "      <td>3.7064</td>\n",
       "      <td>5.573630</td>\n",
       "      <td>14751101.0</td>\n",
       "      <td>NaN</td>\n",
       "    </tr>\n",
       "    <tr>\n",
       "      <th>18356</th>\n",
       "      <td>58480</td>\n",
       "      <td>Zimbabwe</td>\n",
       "      <td>ZWE</td>\n",
       "      <td>2018</td>\n",
       "      <td>3.6591</td>\n",
       "      <td>5.323270</td>\n",
       "      <td>15052191.0</td>\n",
       "      <td>NaN</td>\n",
       "    </tr>\n",
       "    <tr>\n",
       "      <th>18357</th>\n",
       "      <td>58481</td>\n",
       "      <td>Zimbabwe</td>\n",
       "      <td>ZWE</td>\n",
       "      <td>2019</td>\n",
       "      <td>3.5994</td>\n",
       "      <td>5.312390</td>\n",
       "      <td>15354606.0</td>\n",
       "      <td>NaN</td>\n",
       "    </tr>\n",
       "    <tr>\n",
       "      <th>18358</th>\n",
       "      <td>58482</td>\n",
       "      <td>Zimbabwe</td>\n",
       "      <td>ZWE</td>\n",
       "      <td>2020</td>\n",
       "      <td>3.5451</td>\n",
       "      <td>5.225750</td>\n",
       "      <td>15669663.0</td>\n",
       "      <td>NaN</td>\n",
       "    </tr>\n",
       "    <tr>\n",
       "      <th>18359</th>\n",
       "      <td>58483</td>\n",
       "      <td>Zimbabwe</td>\n",
       "      <td>ZWE</td>\n",
       "      <td>2021</td>\n",
       "      <td>3.4908</td>\n",
       "      <td>5.214800</td>\n",
       "      <td>15993525.0</td>\n",
       "      <td>NaN</td>\n",
       "    </tr>\n",
       "  </tbody>\n",
       "</table>\n",
       "<p>72 rows × 8 columns</p>\n",
       "</div>"
      ],
      "text/plain": [
       "       index    Entity Code  Year  \\\n",
       "18288  58412  Zimbabwe  ZWE  1950   \n",
       "18289  58413  Zimbabwe  ZWE  1951   \n",
       "18290  58414  Zimbabwe  ZWE  1952   \n",
       "18291  58415  Zimbabwe  ZWE  1953   \n",
       "18292  58416  Zimbabwe  ZWE  1954   \n",
       "...      ...       ...  ...   ...   \n",
       "18355  58479  Zimbabwe  ZWE  2017   \n",
       "18356  58480  Zimbabwe  ZWE  2018   \n",
       "18357  58481  Zimbabwe  ZWE  2019   \n",
       "18358  58482  Zimbabwe  ZWE  2020   \n",
       "18359  58483  Zimbabwe  ZWE  2021   \n",
       "\n",
       "       Fertility rate - Sex: all - Age: all - Variant: estimates  \\\n",
       "18288                                             7.1040           \n",
       "18289                                             7.1026           \n",
       "18290                                             7.1143           \n",
       "18291                                             7.1195           \n",
       "18292                                             7.1331           \n",
       "...                                                  ...           \n",
       "18355                                             3.7064           \n",
       "18356                                             3.6591           \n",
       "18357                                             3.5994           \n",
       "18358                                             3.5451           \n",
       "18359                                             3.4908           \n",
       "\n",
       "       Child mortality rate - Sex: all - Age: 0-4 - Variant: estimates  \\\n",
       "18288                                          18.331240                 \n",
       "18289                                          18.149181                 \n",
       "18290                                          17.791811                 \n",
       "18291                                          17.436000                 \n",
       "18292                                          17.065370                 \n",
       "...                                                  ...                 \n",
       "18355                                           5.573630                 \n",
       "18356                                           5.323270                 \n",
       "18357                                           5.312390                 \n",
       "18358                                           5.225750                 \n",
       "18359                                           5.214800                 \n",
       "\n",
       "       Population (historical estimates) Continent  \n",
       "18288                          2791336.0       NaN  \n",
       "18289                          2881722.0       NaN  \n",
       "18290                          2973720.0       NaN  \n",
       "18291                          3067904.0       NaN  \n",
       "18292                          3164515.0       NaN  \n",
       "...                                  ...       ...  \n",
       "18355                         14751101.0       NaN  \n",
       "18356                         15052191.0       NaN  \n",
       "18357                         15354606.0       NaN  \n",
       "18358                         15669663.0       NaN  \n",
       "18359                         15993525.0       NaN  \n",
       "\n",
       "[72 rows x 8 columns]"
      ]
     },
     "execution_count": 23,
     "metadata": {},
     "output_type": "execute_result"
    }
   ],
   "source": [
    "df.loc[df['Entity'] == 'Zimbabwe'] "
   ]
  },
  {
   "cell_type": "markdown",
   "id": "8da570af-db22-4682-8fb1-e82812f7b3ba",
   "metadata": {},
   "source": [
    "Another way to do this is to **make a mask**.  \n",
    "Masks allow you to make smaller version of df that just contains the rows of you are interested in."
   ]
  },
  {
   "cell_type": "code",
   "execution_count": 25,
   "id": "af41283a-e8be-449f-900b-a023ac84c791",
   "metadata": {},
   "outputs": [
    {
     "data": {
      "text/plain": [
       "18288    Zimbabwe\n",
       "18289    Zimbabwe\n",
       "18290    Zimbabwe\n",
       "18291    Zimbabwe\n",
       "18292    Zimbabwe\n",
       "           ...   \n",
       "18355    Zimbabwe\n",
       "18356    Zimbabwe\n",
       "18357    Zimbabwe\n",
       "18358    Zimbabwe\n",
       "18359    Zimbabwe\n",
       "Name: Entity, Length: 72, dtype: object"
      ]
     },
     "execution_count": 25,
     "metadata": {},
     "output_type": "execute_result"
    }
   ],
   "source": [
    "mask = (df['Entity'].values == 'Zimbabwe')\n",
    "df_Zim = df[mask]\n",
    "df_Zim['Entity'] "
   ]
  },
  {
   "cell_type": "markdown",
   "id": "4b64b47e-4b2c-4479-bf4d-2c44fa722403",
   "metadata": {},
   "source": [
    "In the future, another way to select the appropriate data is to use the numpy function where()."
   ]
  },
  {
   "cell_type": "markdown",
   "id": "95581a62-b1de-416e-bdae-e45e55056643",
   "metadata": {},
   "source": [
    "There are many rows of data **df** or even **df_Zim**.  How would we determine how many rows of data there are in either?"
   ]
  },
  {
   "cell_type": "code",
   "execution_count": 28,
   "id": "08b57a6d-79c4-43d3-ad16-9b84d9239791",
   "metadata": {},
   "outputs": [
    {
     "name": "stdout",
     "output_type": "stream",
     "text": [
      "18360 72\n"
     ]
    }
   ],
   "source": [
    "print(len(df), len(df_Zim)) #len function tells us the total number of rows in df or df_Zim"
   ]
  },
  {
   "cell_type": "markdown",
   "id": "33ff0054-0ae1-489d-b091-4e6857abbcc3",
   "metadata": {},
   "source": [
    "What if we wanted to determine which Continent each country belongs to? "
   ]
  },
  {
   "cell_type": "code",
   "execution_count": 30,
   "id": "f50d1370-2c32-4746-ad69-e433ca0abdec",
   "metadata": {},
   "outputs": [
    {
     "data": {
      "text/html": [
       "<div>\n",
       "<style scoped>\n",
       "    .dataframe tbody tr th:only-of-type {\n",
       "        vertical-align: middle;\n",
       "    }\n",
       "\n",
       "    .dataframe tbody tr th {\n",
       "        vertical-align: top;\n",
       "    }\n",
       "\n",
       "    .dataframe thead th {\n",
       "        text-align: right;\n",
       "    }\n",
       "</style>\n",
       "<table border=\"1\" class=\"dataframe\">\n",
       "  <thead>\n",
       "    <tr style=\"text-align: right;\">\n",
       "      <th></th>\n",
       "      <th>index</th>\n",
       "      <th>Entity</th>\n",
       "      <th>Code</th>\n",
       "      <th>Year</th>\n",
       "      <th>Fertility rate - Sex: all - Age: all - Variant: estimates</th>\n",
       "      <th>Child mortality rate - Sex: all - Age: 0-4 - Variant: estimates</th>\n",
       "      <th>Population (historical estimates)</th>\n",
       "      <th>Continent</th>\n",
       "    </tr>\n",
       "  </thead>\n",
       "  <tbody>\n",
       "    <tr>\n",
       "      <th>65</th>\n",
       "      <td>66</td>\n",
       "      <td>Afghanistan</td>\n",
       "      <td>AFG</td>\n",
       "      <td>2015</td>\n",
       "      <td>5.4052</td>\n",
       "      <td>7.39375</td>\n",
       "      <td>33753500.0</td>\n",
       "      <td>Asia</td>\n",
       "    </tr>\n",
       "    <tr>\n",
       "      <th>209</th>\n",
       "      <td>661</td>\n",
       "      <td>Albania</td>\n",
       "      <td>ALB</td>\n",
       "      <td>2015</td>\n",
       "      <td>1.6130</td>\n",
       "      <td>0.95719</td>\n",
       "      <td>2882482.0</td>\n",
       "      <td>Europe</td>\n",
       "    </tr>\n",
       "    <tr>\n",
       "      <th>281</th>\n",
       "      <td>920</td>\n",
       "      <td>Algeria</td>\n",
       "      <td>DZA</td>\n",
       "      <td>2015</td>\n",
       "      <td>3.0414</td>\n",
       "      <td>2.51730</td>\n",
       "      <td>39543148.0</td>\n",
       "      <td>Africa</td>\n",
       "    </tr>\n",
       "    <tr>\n",
       "      <th>353</th>\n",
       "      <td>1179</td>\n",
       "      <td>American Samoa</td>\n",
       "      <td>ASM</td>\n",
       "      <td>2015</td>\n",
       "      <td>2.7327</td>\n",
       "      <td>1.03003</td>\n",
       "      <td>51391.0</td>\n",
       "      <td>Oceania</td>\n",
       "    </tr>\n",
       "    <tr>\n",
       "      <th>425</th>\n",
       "      <td>1293</td>\n",
       "      <td>Andorra</td>\n",
       "      <td>AND</td>\n",
       "      <td>2015</td>\n",
       "      <td>1.3522</td>\n",
       "      <td>0.69168</td>\n",
       "      <td>71766.0</td>\n",
       "      <td>Europe</td>\n",
       "    </tr>\n",
       "    <tr>\n",
       "      <th>...</th>\n",
       "      <td>...</td>\n",
       "      <td>...</td>\n",
       "      <td>...</td>\n",
       "      <td>...</td>\n",
       "      <td>...</td>\n",
       "      <td>...</td>\n",
       "      <td>...</td>\n",
       "      <td>...</td>\n",
       "    </tr>\n",
       "    <tr>\n",
       "      <th>17993</th>\n",
       "      <td>57372</td>\n",
       "      <td>Wallis and Futuna</td>\n",
       "      <td>WLF</td>\n",
       "      <td>2015</td>\n",
       "      <td>2.0600</td>\n",
       "      <td>1.39038</td>\n",
       "      <td>12208.0</td>\n",
       "      <td>Oceania</td>\n",
       "    </tr>\n",
       "    <tr>\n",
       "      <th>18065</th>\n",
       "      <td>57455</td>\n",
       "      <td>Western Sahara</td>\n",
       "      <td>ESH</td>\n",
       "      <td>2015</td>\n",
       "      <td>2.5209</td>\n",
       "      <td>3.74829</td>\n",
       "      <td>491837.0</td>\n",
       "      <td>Africa</td>\n",
       "    </tr>\n",
       "    <tr>\n",
       "      <th>18209</th>\n",
       "      <td>57832</td>\n",
       "      <td>Yemen</td>\n",
       "      <td>YEM</td>\n",
       "      <td>2015</td>\n",
       "      <td>4.3224</td>\n",
       "      <td>6.08182</td>\n",
       "      <td>28516552.0</td>\n",
       "      <td>Asia</td>\n",
       "    </tr>\n",
       "    <tr>\n",
       "      <th>18281</th>\n",
       "      <td>58217</td>\n",
       "      <td>Zambia</td>\n",
       "      <td>ZMB</td>\n",
       "      <td>2015</td>\n",
       "      <td>4.7935</td>\n",
       "      <td>6.75531</td>\n",
       "      <td>16248231.0</td>\n",
       "      <td>Africa</td>\n",
       "    </tr>\n",
       "    <tr>\n",
       "      <th>18353</th>\n",
       "      <td>58477</td>\n",
       "      <td>Zimbabwe</td>\n",
       "      <td>ZWE</td>\n",
       "      <td>2015</td>\n",
       "      <td>3.8490</td>\n",
       "      <td>6.01421</td>\n",
       "      <td>14154937.0</td>\n",
       "      <td>Africa</td>\n",
       "    </tr>\n",
       "  </tbody>\n",
       "</table>\n",
       "<p>237 rows × 8 columns</p>\n",
       "</div>"
      ],
      "text/plain": [
       "       index             Entity Code  Year  \\\n",
       "65        66        Afghanistan  AFG  2015   \n",
       "209      661            Albania  ALB  2015   \n",
       "281      920            Algeria  DZA  2015   \n",
       "353     1179     American Samoa  ASM  2015   \n",
       "425     1293            Andorra  AND  2015   \n",
       "...      ...                ...  ...   ...   \n",
       "17993  57372  Wallis and Futuna  WLF  2015   \n",
       "18065  57455     Western Sahara  ESH  2015   \n",
       "18209  57832              Yemen  YEM  2015   \n",
       "18281  58217             Zambia  ZMB  2015   \n",
       "18353  58477           Zimbabwe  ZWE  2015   \n",
       "\n",
       "       Fertility rate - Sex: all - Age: all - Variant: estimates  \\\n",
       "65                                                5.4052           \n",
       "209                                               1.6130           \n",
       "281                                               3.0414           \n",
       "353                                               2.7327           \n",
       "425                                               1.3522           \n",
       "...                                                  ...           \n",
       "17993                                             2.0600           \n",
       "18065                                             2.5209           \n",
       "18209                                             4.3224           \n",
       "18281                                             4.7935           \n",
       "18353                                             3.8490           \n",
       "\n",
       "       Child mortality rate - Sex: all - Age: 0-4 - Variant: estimates  \\\n",
       "65                                               7.39375                 \n",
       "209                                              0.95719                 \n",
       "281                                              2.51730                 \n",
       "353                                              1.03003                 \n",
       "425                                              0.69168                 \n",
       "...                                                  ...                 \n",
       "17993                                            1.39038                 \n",
       "18065                                            3.74829                 \n",
       "18209                                            6.08182                 \n",
       "18281                                            6.75531                 \n",
       "18353                                            6.01421                 \n",
       "\n",
       "       Population (historical estimates) Continent  \n",
       "65                            33753500.0      Asia  \n",
       "209                            2882482.0    Europe  \n",
       "281                           39543148.0    Africa  \n",
       "353                              51391.0   Oceania  \n",
       "425                              71766.0    Europe  \n",
       "...                                  ...       ...  \n",
       "17993                            12208.0   Oceania  \n",
       "18065                           491837.0    Africa  \n",
       "18209                         28516552.0      Asia  \n",
       "18281                         16248231.0    Africa  \n",
       "18353                         14154937.0    Africa  \n",
       "\n",
       "[237 rows x 8 columns]"
      ]
     },
     "execution_count": 30,
     "metadata": {},
     "output_type": "execute_result"
    }
   ],
   "source": [
    "mask_for_continent = df['Continent'].notnull()\n",
    "df[mask_for_continent] #shows only the rows with continents listed "
   ]
  },
  {
   "cell_type": "markdown",
   "id": "0edbb560-a64e-481b-87be-00b168089dab",
   "metadata": {},
   "source": [
    "Perhaps I just want to look at **one column** of data from the table above (like the column called 'Continents').  \n",
    "I can apply the mask and key name ('Continents') at the same time. "
   ]
  },
  {
   "cell_type": "code",
   "execution_count": 32,
   "id": "f545d7c7-ebf9-4186-a0af-ad36401faeec",
   "metadata": {},
   "outputs": [
    {
     "data": {
      "text/plain": [
       "65          Asia\n",
       "209       Europe\n",
       "281       Africa\n",
       "353      Oceania\n",
       "425       Europe\n",
       "          ...   \n",
       "17993    Oceania\n",
       "18065     Africa\n",
       "18209       Asia\n",
       "18281     Africa\n",
       "18353     Africa\n",
       "Name: Continent, Length: 237, dtype: object"
      ]
     },
     "execution_count": 32,
     "metadata": {},
     "output_type": "execute_result"
    }
   ],
   "source": [
    "df[mask_for_continent]['Continent']"
   ]
  },
  {
   "cell_type": "markdown",
   "id": "92cdfffa-b104-43b6-add7-f8acab2e167b",
   "metadata": {},
   "source": [
    "Let's say I want to know the unique continents in my data."
   ]
  },
  {
   "cell_type": "code",
   "execution_count": 34,
   "id": "74c7d03d-b20b-4f03-b034-82859e793770",
   "metadata": {},
   "outputs": [
    {
     "name": "stdout",
     "output_type": "stream",
     "text": [
      "['Asia' 'Europe' 'Africa' 'Oceania' 'North America' 'South America']\n"
     ]
    }
   ],
   "source": [
    "uniq_continents = df[mask_for_continent]['Continent'].unique()\n",
    "print(uniq_continents)"
   ]
  },
  {
   "cell_type": "markdown",
   "id": "de1df31e-a138-4bab-bfb2-44a8dd05e739",
   "metadata": {},
   "source": [
    "There are often **many** ways to do the same thing in Python.\n",
    "Here are 2 ways to fine the number of unique continents in my data."
   ]
  },
  {
   "cell_type": "code",
   "execution_count": 36,
   "id": "20e6ccf7-b50c-4413-a900-24db65e2bb4e",
   "metadata": {},
   "outputs": [
    {
     "name": "stdout",
     "output_type": "stream",
     "text": [
      "6 6\n"
     ]
    }
   ],
   "source": [
    "nuniq_1 = df[mask_for_continent]['Continent'].nunique()\n",
    "nuniq_2 = len(df[mask_for_continent]['Continent'].unique())\n",
    "print(nuniq_1, nuniq_2)"
   ]
  },
  {
   "cell_type": "code",
   "execution_count": 37,
   "id": "0938a10d-5432-4e36-ac7e-242c447394eb",
   "metadata": {},
   "outputs": [
    {
     "name": "stdout",
     "output_type": "stream",
     "text": [
      "285\n",
      "0                       Abkhazia\n",
      "66                   Afghanistan\n",
      "594        Akrotiri and Dhekelia\n",
      "595                Aland Islands\n",
      "661                      Albania\n",
      "                  ...           \n",
      "58049        Yemen Arab Republic\n",
      "58073    Yemen People's Republic\n",
      "58151                 Yugoslavia\n",
      "58217                     Zambia\n",
      "58411                   Zanzibar\n",
      "Name: Entity, Length: 284, dtype: object\n"
     ]
    }
   ],
   "source": [
    "mask_Nan2 = dataframe['Population (historical estimates)' \n",
    "                 and 'Fertility rate - Sex: all - Age: all - Variant: estimates' \n",
    "                 and 'Child mortality rate - Sex: all - Age: 0-4 - Variant: estimates'\n",
    "                 and 'Continent'].notnull() \n",
    "\n",
    "#print(mask_Nan)        # uncomment if you want to see what mask contains -- True or False if the criteria is met for each row of data\n",
    "df2 = dataframe[mask_Nan2] # df will only contain the rows of data from dataframe that are `True' in the mask.\n",
    "\n",
    "df2['Entity'] #this let's us see what is inside the 'Entity' column of data\n",
    "country = df2['Entity']\n",
    "continent = df2['Continent']\n",
    "ncountry = len(country)\n",
    "print(ncountry)\n",
    "print(country[0:284])"
   ]
  },
  {
   "cell_type": "markdown",
   "id": "158fa772-7d9b-4966-91bf-c7f1f32e1465",
   "metadata": {},
   "source": [
    "### Step 2\n",
    "Make plot"
   ]
  },
  {
   "cell_type": "markdown",
   "id": "f9b79799-0fa2-4ecd-9d23-a10f49f8eeff",
   "metadata": {},
   "source": [
    "Let's start by selecting just the data for the year 2020.  We will use a mask to do this."
   ]
  },
  {
   "cell_type": "code",
   "execution_count": 40,
   "id": "8e0fcd5c-1529-40ae-a129-9f34297715a2",
   "metadata": {},
   "outputs": [],
   "source": [
    "mask_2020 = df['Year'].values == 2020 \n",
    "df_2020 = df[mask_2020]"
   ]
  },
  {
   "cell_type": "markdown",
   "id": "27444f27-5d02-4444-a1d3-5c7ddf126016",
   "metadata": {},
   "source": [
    "Let's remind ourselves the names of each of our **columns of data**."
   ]
  },
  {
   "cell_type": "code",
   "execution_count": 42,
   "id": "51d7cf9e-5d54-4a77-8c74-5c0bf214d23a",
   "metadata": {},
   "outputs": [
    {
     "data": {
      "text/plain": [
       "['index',\n",
       " 'Entity',\n",
       " 'Code',\n",
       " 'Year',\n",
       " 'Fertility rate - Sex: all - Age: all - Variant: estimates',\n",
       " 'Child mortality rate - Sex: all - Age: 0-4 - Variant: estimates',\n",
       " 'Population (historical estimates)',\n",
       " 'Continent']"
      ]
     },
     "execution_count": 42,
     "metadata": {},
     "output_type": "execute_result"
    }
   ],
   "source": [
    "list(df_2020.columns)"
   ]
  },
  {
   "cell_type": "markdown",
   "id": "bd159ab2-61b2-4273-860c-d7f0bc22b4b8",
   "metadata": {},
   "source": [
    "Right now, the populations are huge and wildly different. \n",
    "Let's take the log2 to have smaller numbers to scale our points by."
   ]
  },
  {
   "cell_type": "code",
   "execution_count": 44,
   "id": "15c913fe-8f45-479f-8aa5-92d000cd3685",
   "metadata": {},
   "outputs": [
    {
     "data": {
      "text/plain": [
       "70       25.215943\n",
       "142      30.341678\n",
       "214      21.451035\n",
       "286      25.372908\n",
       "358      15.496105\n",
       "           ...    \n",
       "18070    19.084881\n",
       "18142    32.868382\n",
       "18214    24.944318\n",
       "18286    24.173997\n",
       "18358    23.901471\n",
       "Name: Population (historical estimates), Length: 255, dtype: float64"
      ]
     },
     "execution_count": 44,
     "metadata": {},
     "output_type": "execute_result"
    }
   ],
   "source": [
    "pop     = df_2020['Population (historical estimates)']\n",
    "log_pop = np.log2(df_2020['Population (historical estimates)'])\n",
    "log_pop"
   ]
  },
  {
   "cell_type": "code",
   "execution_count": 45,
   "id": "e4112fc2-12cd-46cf-bd22-c2ce61e0925d",
   "metadata": {},
   "outputs": [
    {
     "data": {
      "image/png": "[encoded data removed]",
      "text/plain": [
       "<Figure size 800x600 with 1 Axes>"
      ]
     },
     "metadata": {},
     "output_type": "display_data"
    }
   ],
   "source": [
    "# To make the scatter plot a little easier to read\n",
    "# I have saved the data I will plot on the x-axis in a variable I am calling 'x' and\n",
    "# I have saved the data I will plot on the -yaxis in a variable I am calling 'y'. \n",
    "# you do not need to do this yourself!  This is just for ease of reading my code this time.\n",
    "\n",
    "x = df_2020['Child mortality rate - Sex: all - Age: 0-4 - Variant: estimates']\n",
    "y = df_2020['Fertility rate - Sex: all - Age: all - Variant: estimates']\n",
    "\n",
    "plt.figure(figsize=(8,6)) # setting how big in inches the plot will be displayed below\n",
    "font = {'size'   : 16}    # default font size\n",
    "plt.rc('font', **font)\n",
    "plt.rc('xtick', labelsize=14) \n",
    "plt.rc('ytick', labelsize=14) \n",
    "\n",
    "plt.scatter(x, y, s=log_pop**1.4, label='2020', alpha=.7)\n",
    "plt.xlabel('Child mortality (%)') \n",
    "plt.ylabel('Children per woman')\n",
    "\n",
    "plt.legend(fontsize=12, loc='upper left')\n",
    "plt.show()\n"
   ]
  },
  {
   "cell_type": "markdown",
   "id": "da1ba4f1-115b-4161-aa9f-4f1be623b17f",
   "metadata": {},
   "source": [
    "### Homework 1\n",
    "Note, at this point, we have not included: <br>\n",
    "    1) the color of each point as it corresponds to the continent <br>\n",
    "    2) the appropriate sizing of points <br>\n",
    "    3) labeling of the points <br>\n",
    "    4) a legend for the colors of the continents <br>\n",
    "This is your **homework, due next Friday (9/12) at 11:59 pm**! \n",
    "In addition to 2020, I want you to generate the same plot, but **also for 2015**. Note, the Continent information is excluded from 2015 from the data table -- please reuse your Continent data from 2020 and double check that each country is listed in the right Continent when you plot it.\n",
    "\n",
    "i) PLEASE make sure to comment your code! Look for examples above of how I did this -  I included a # with a short phrase of explanation next to the code. For this assignment **DO NOT** use ChatGPT to comment your code. This is an exercise in you thinking about what you have written - it is very clear to me if you use ChatGPT to write comments, and it misses the point of the exercise (to think about how you would phrase things on your own and grapple with making it concise, specific and clear). <br>\n",
    "ii) If you work with others, please note your collaboration at the top of your Jupyter Notebook.  <br>\n",
    "iii) I encourage you to use ChatGPT to help aid you learning how to read documentation from the matplotlib website but not solve the particular coding task. There are many ways to code up these results - ChatGPT does not necessarily give you a clean, clean way to do this. You are better served by Googling and reading a wide range of websites on your own (you will learn more about plotting broadly and ChatGPT will not be a crutch to you but an aid in the future). <br>\n",
    "iv) You should name your Notebook Yourlastname_Homework1.ipynb and submit it to me via our CatCourse page.\n",
    "\n",
    "In addition to this, <span style=\"color:red\">**graduate students(those registered for 227 as opposed to 127)** should recreate one other plot of your choice from the website linked at the top of the page.</span> \n",
    "To do this, you will need to get data from [Our World in Data: Fertility Rate](https://ourworldindata.org/fertility-rate) for the plot you pick by clicking on the image and selecting download.  "
   ]
  },
  {
   "cell_type": "markdown",
   "id": "043909df-1623-4e98-8319-d7bf4de9c294",
   "metadata": {},
   "source": [
    "### **Exra Credit**\n",
    "\n",
    "Create an animation recreating one that was shown in the TED talk.  Comment your code and make sure to provide references or webpage links for the resources you utilize to generate this.  Turn both the animation and the code in this Jupyter notebook in for full extra credit points. "
   ]
  },
  {
   "cell_type": "code",
   "execution_count": null,
   "id": "c26948a4-e29d-4492-a00c-b196dc5ed6a4",
   "metadata": {},
   "outputs": [],
   "source": []
  }
 ],
 "metadata": {
  "kernelspec": {
   "display_name": "Python [conda env:base] *",
   "language": "python",
   "name": "conda-base-py"
  },
  "language_info": {
   "codemirror_mode": {
    "name": "ipython",
    "version": 3
   },
   "file_extension": ".py",
   "mimetype": "text/x-python",
   "name": "python",
   "nbconvert_exporter": "python",
   "pygments_lexer": "ipython3",
   "version": "3.9.19"
  }
 },
 "nbformat": 4,
 "nbformat_minor": 5
}
